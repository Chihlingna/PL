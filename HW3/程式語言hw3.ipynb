{
 "cells": [
  {
   "cell_type": "code",
   "execution_count": 1,
   "metadata": {},
   "outputs": [],
   "source": [
    "import requests\n",
    "from bs4 import BeautifulSoup\n",
    "import pandas as pd\n",
    "import re\n",
    "import json"
   ]
  },
  {
   "cell_type": "code",
   "execution_count": 2,
   "metadata": {},
   "outputs": [],
   "source": [
    "\n",
    "# 爬取網頁內容\n",
    "url = 'https://www.ptt.cc/bbs/KoreaDrama/index.html'\n",
    "response = requests.get(url)\n",
    "html_content = response.text"
   ]
  },
  {
   "cell_type": "code",
   "execution_count": 3,
   "metadata": {},
   "outputs": [
    {
     "data": {
      "text/plain": [
       "'<!DOCTYPE html>\\n<html>\\n\\t<head>\\n\\t\\t<meta charset=\"utf-8\">\\n\\t\\t\\n\\n<meta name=\"viewport\" content=\"width=device-width, initial-scale=1\">\\n\\n<title>看板 KoreaDrama 文章列表 - 批踢踢實業坊</title>\\n\\n<link rel=\"stylesheet\" type=\"text/css\" href=\"//images.ptt.cc/bbs/v2.27/bbs-common.css\">\\n<link rel=\"stylesheet\" type=\"text/css\" href=\"//images.ptt.cc/bbs/v2.27/bbs-base.css\" media=\"screen\">\\n<link rel=\"stylesheet\" type=\"text/css\" href=\"//images.ptt.cc/bbs/v2.27/bbs-custom.css\">\\n<link rel=\"stylesheet\" type=\"text/css\" href=\"//images.ptt.cc/bbs/v2.27/pushstream.css\" media=\"screen\">\\n<link rel=\"stylesheet\" type=\"text/css\" href=\"//images.ptt.cc/bbs/v2.27/bbs-print.css\" media=\"print\">\\n\\n\\n\\n\\n\\t</head>\\n    <body>\\n\\t\\t\\n<div id=\"topbar-container\">\\n\\t<div id=\"topbar\" class=\"bbs-content\">\\n\\t\\t<a id=\"logo\" href=\"/bbs/\">批踢踢實業坊</a>\\n\\t\\t<span>&rsaquo;</span>\\n\\t\\t<a class=\"board\" href=\"/bbs/KoreaDrama/index.html\"><span class=\"board-label\">看板 </span>KoreaDrama</a>\\n\\t\\t<a class=\"right small\" href=\"/about.html\">關於我們</a>\\n\\t\\t<a class=\"right small\" href=\"/contact.html\">聯絡資訊</a>\\n\\t</div>\\n</div>\\n\\n<div id=\"main-container\">\\n\\t<div id=\"action-bar-container\">\\n\\t\\t<div class=\"action-bar\">\\n\\t\\t\\t<div class=\"btn-group btn-group-dir\">\\n\\t\\t\\t\\t<a class=\"btn selected\" href=\"/bbs/KoreaDrama/index.html\">看板</a>\\n\\t\\t\\t\\t<a class=\"btn\" href=\"/man/KoreaDrama/index.html\">精華區</a>\\n\\t\\t\\t</div>\\n\\t\\t\\t<div class=\"btn-group btn-group-paging\">\\n\\t\\t\\t\\t<a class=\"btn wide\" href=\"/bbs/KoreaDrama/index1.html\">最舊</a>\\n\\t\\t\\t\\t<a class=\"btn wide\" href=\"/bbs/KoreaDrama/index3012.html\">&lsaquo; 上頁</a>\\n\\t\\t\\t\\t<a class=\"btn wide disabled\">下頁 &rsaquo;</a>\\n\\t\\t\\t\\t<a class=\"btn wide\" href=\"/bbs/KoreaDrama/index.html\">最新</a>\\n\\t\\t\\t</div>\\n\\t\\t</div>\\n\\t</div>\\n\\n\\t<div class=\"r-list-container action-bar-margin bbs-screen\">\\n\\t\\t<div class=\"search-bar\">\\n\\t\\t\\t<form type=\"get\" action=\"search\" id=\"search-bar\">\\n\\t\\t\\t\\t<input class=\"query\" type=\"text\" name=\"q\" value=\"\" placeholder=\"搜尋文章&#x22ef;\">\\n\\t\\t\\t</form>\\n\\t\\t</div>\\n\\n\\t\\t\\n\\t\\t\\n            \\n        \\n        \\n\\t\\t<div class=\"r-ent\">\\n\\t\\t\\t<div class=\"nrec\"><span class=\"hl f3\">44</span></div>\\n\\t\\t\\t<div class=\"title\">\\n\\t\\t\\t\\n\\t\\t\\t\\t<a href=\"/bbs/KoreaDrama/M.1713273246.A.0F9.html\">[LIVE] ENA 夜限照相館 EP11</a>\\n\\t\\t\\t\\n\\t\\t\\t</div>\\n\\t\\t\\t<div class=\"meta\">\\n\\t\\t\\t\\t<div class=\"author\">kawasau</div>\\n\\t\\t\\t\\t<div class=\"article-menu\">\\n\\t\\t\\t\\t\\t\\n\\t\\t\\t\\t\\t<div class=\"trigger\">&#x22ef;</div>\\n\\t\\t\\t\\t\\t<div class=\"dropdown\">\\n\\t\\t\\t\\t\\t\\t<div class=\"item\"><a href=\"/bbs/KoreaDrama/search?q=thread%3A%5BLIVE%5D&#43;ENA&#43;%E5%A4%9C%E9%99%90%E7%85%A7%E7%9B%B8%E9%A4%A8&#43;EP11\">搜尋同標題文章</a></div>\\n\\t\\t\\t\\t\\t\\t\\n\\t\\t\\t\\t\\t\\t<div class=\"item\"><a href=\"/bbs/KoreaDrama/search?q=author%3Akawasau\">搜尋看板內 kawasau 的文章</a></div>\\n\\t\\t\\t\\t\\t\\t\\n\\t\\t\\t\\t\\t</div>\\n\\t\\t\\t\\t\\t\\n\\t\\t\\t\\t</div>\\n\\t\\t\\t\\t<div class=\"date\"> 4/16</div>\\n\\t\\t\\t\\t<div class=\"mark\"></div>\\n\\t\\t\\t</div>\\n\\t\\t</div>\\n\\n\\t\\t\\n            \\n        \\n        \\n\\t\\t<div class=\"r-ent\">\\n\\t\\t\\t<div class=\"nrec\"><span class=\"hl f3\">30</span></div>\\n\\t\\t\\t<div class=\"title\">\\n\\t\\t\\t\\n\\t\\t\\t\\t<a href=\"/bbs/KoreaDrama/M.1713275026.A.706.html\">[情報] 鄭麗媛、魏嘏雋主演《畢業》預告</a>\\n\\t\\t\\t\\n\\t\\t\\t</div>\\n\\t\\t\\t<div class=\"meta\">\\n\\t\\t\\t\\t<div class=\"author\">XOD</div>\\n\\t\\t\\t\\t<div class=\"article-menu\">\\n\\t\\t\\t\\t\\t\\n\\t\\t\\t\\t\\t<div class=\"trigger\">&#x22ef;</div>\\n\\t\\t\\t\\t\\t<div class=\"dropdown\">\\n\\t\\t\\t\\t\\t\\t<div class=\"item\"><a href=\"/bbs/KoreaDrama/search?q=thread%3A%5B%E6%83%85%E5%A0%B1%5D&#43;%E9%84%AD%E9%BA%97%E5%AA%9B%E3%80%81%E9%AD%8F%E5%98%8F%E9%9B%8B%E4%B8%BB%E6%BC%94%E3%80%8A%E7%95%A2%E6%A5%AD%E3%80%8B%E9%A0%90%E5%91%8A\">搜尋同標題文章</a></div>\\n\\t\\t\\t\\t\\t\\t\\n\\t\\t\\t\\t\\t\\t<div class=\"item\"><a href=\"/bbs/KoreaDrama/search?q=author%3AXOD\">搜尋看板內 XOD 的文章</a></div>\\n\\t\\t\\t\\t\\t\\t\\n\\t\\t\\t\\t\\t</div>\\n\\t\\t\\t\\t\\t\\n\\t\\t\\t\\t</div>\\n\\t\\t\\t\\t<div class=\"date\"> 4/16</div>\\n\\t\\t\\t\\t<div class=\"mark\"></div>\\n\\t\\t\\t</div>\\n\\t\\t</div>\\n\\n\\t\\t\\n            \\n        \\n        \\n\\t\\t<div class=\"r-ent\">\\n\\t\\t\\t<div class=\"nrec\"><span class=\"hl f2\">9</span></div>\\n\\t\\t\\t<div class=\"title\">\\n\\t\\t\\t\\n\\t\\t\\t\\t<a href=\"/bbs/KoreaDrama/M.1713282518.A.6C3.html\">[心得] 美好世界（雷）</a>\\n\\t\\t\\t\\n\\t\\t\\t</div>\\n\\t\\t\\t<div class=\"meta\">\\n\\t\\t\\t\\t<div class=\"author\">fishgift</div>\\n\\t\\t\\t\\t<div class=\"article-menu\">\\n\\t\\t\\t\\t\\t\\n\\t\\t\\t\\t\\t<div class=\"trigger\">&#x22ef;</div>\\n\\t\\t\\t\\t\\t<div class=\"dropdown\">\\n\\t\\t\\t\\t\\t\\t<div class=\"item\"><a href=\"/bbs/KoreaDrama/search?q=thread%3A%5B%E5%BF%83%E5%BE%97%5D&#43;%E7%BE%8E%E5%A5%BD%E4%B8%96%E7%95%8C%EF%BC%88%E9%9B%B7%EF%BC%89\">搜尋同標題文章</a></div>\\n\\t\\t\\t\\t\\t\\t\\n\\t\\t\\t\\t\\t\\t<div class=\"item\"><a href=\"/bbs/KoreaDrama/search?q=author%3Afishgift\">搜尋看板內 fishgift 的文章</a></div>\\n\\t\\t\\t\\t\\t\\t\\n\\t\\t\\t\\t\\t</div>\\n\\t\\t\\t\\t\\t\\n\\t\\t\\t\\t</div>\\n\\t\\t\\t\\t<div class=\"date\"> 4/16</div>\\n\\t\\t\\t\\t<div class=\"mark\"></div>\\n\\t\\t\\t</div>\\n\\t\\t</div>\\n\\n\\t\\t\\n            \\n        \\n        \\n\\t\\t<div class=\"r-ent\">\\n\\t\\t\\t<div class=\"nrec\"><span class=\"hl f3\">17</span></div>\\n\\t\\t\\t<div class=\"title\">\\n\\t\\t\\t\\n\\t\\t\\t\\t<a href=\"/bbs/KoreaDrama/M.1713285684.A.52B.html\">[閒聊] 淚之女王 劇情猜測 關於病情</a>\\n\\t\\t\\t\\n\\t\\t\\t</div>\\n\\t\\t\\t<div class=\"meta\">\\n\\t\\t\\t\\t<div class=\"author\">mooneyess</div>\\n\\t\\t\\t\\t<div class=\"article-menu\">\\n\\t\\t\\t\\t\\t\\n\\t\\t\\t\\t\\t<div class=\"trigger\">&#x22ef;</div>\\n\\t\\t\\t\\t\\t<div class=\"dropdown\">\\n\\t\\t\\t\\t\\t\\t<div class=\"item\"><a href=\"/bbs/KoreaDrama/search?q=thread%3A%5B%E9%96%92%E8%81%8A%5D&#43;%E6%B7%9A%E4%B9%8B%E5%A5%B3%E7%8E%8B&#43;%E5%8A%87%E6%83%85%E7%8C%9C%E6%B8%AC&#43;%E9%97%9C%E6%96%BC%E7%97%85%E6%83%85\">搜尋同標題文章</a></div>\\n\\t\\t\\t\\t\\t\\t\\n\\t\\t\\t\\t\\t\\t<div class=\"item\"><a href=\"/bbs/KoreaDrama/search?q=author%3Amooneyess\">搜尋看板內 mooneyess 的文章</a></div>\\n\\t\\t\\t\\t\\t\\t\\n\\t\\t\\t\\t\\t</div>\\n\\t\\t\\t\\t\\t\\n\\t\\t\\t\\t</div>\\n\\t\\t\\t\\t<div class=\"date\"> 4/17</div>\\n\\t\\t\\t\\t<div class=\"mark\"></div>\\n\\t\\t\\t</div>\\n\\t\\t</div>\\n\\n\\t\\t\\n            \\n        \\n        \\n\\t\\t<div class=\"r-ent\">\\n\\t\\t\\t<div class=\"nrec\"><span class=\"hl f3\">73</span></div>\\n\\t\\t\\t<div class=\"title\">\\n\\t\\t\\t\\n\\t\\t\\t\\t<a href=\"/bbs/KoreaDrama/M.1713291831.A.E6E.html\">Re: [閒聊] 淚之女王 劇情猜測 關於病情</a>\\n\\t\\t\\t\\n\\t\\t\\t</div>\\n\\t\\t\\t<div class=\"meta\">\\n\\t\\t\\t\\t<div class=\"author\">erric</div>\\n\\t\\t\\t\\t<div class=\"article-menu\">\\n\\t\\t\\t\\t\\t\\n\\t\\t\\t\\t\\t<div class=\"trigger\">&#x22ef;</div>\\n\\t\\t\\t\\t\\t<div class=\"dropdown\">\\n\\t\\t\\t\\t\\t\\t<div class=\"item\"><a href=\"/bbs/KoreaDrama/search?q=thread%3A%5B%E9%96%92%E8%81%8A%5D&#43;%E6%B7%9A%E4%B9%8B%E5%A5%B3%E7%8E%8B&#43;%E5%8A%87%E6%83%85%E7%8C%9C%E6%B8%AC&#43;%E9%97%9C%E6%96%BC%E7%97%85%E6%83%85\">搜尋同標題文章</a></div>\\n\\t\\t\\t\\t\\t\\t\\n\\t\\t\\t\\t\\t\\t<div class=\"item\"><a href=\"/bbs/KoreaDrama/search?q=author%3Aerric\">搜尋看板內 erric 的文章</a></div>\\n\\t\\t\\t\\t\\t\\t\\n\\t\\t\\t\\t\\t</div>\\n\\t\\t\\t\\t\\t\\n\\t\\t\\t\\t</div>\\n\\t\\t\\t\\t<div class=\"date\"> 4/17</div>\\n\\t\\t\\t\\t<div class=\"mark\"></div>\\n\\t\\t\\t</div>\\n\\t\\t</div>\\n\\n\\t\\t\\n            \\n        \\n        \\n\\t\\t<div class=\"r-ent\">\\n\\t\\t\\t<div class=\"nrec\"></div>\\n\\t\\t\\t<div class=\"title\">\\n\\t\\t\\t\\n\\t\\t\\t\\t(本文已被刪除) [mooneyess]\\n\\t\\t\\t\\n\\t\\t\\t</div>\\n\\t\\t\\t<div class=\"meta\">\\n\\t\\t\\t\\t<div class=\"author\">-</div>\\n\\t\\t\\t\\t<div class=\"article-menu\">\\n\\t\\t\\t\\t\\t\\n\\t\\t\\t\\t</div>\\n\\t\\t\\t\\t<div class=\"date\"> 4/17</div>\\n\\t\\t\\t\\t<div class=\"mark\"></div>\\n\\t\\t\\t</div>\\n\\t\\t</div>\\n\\n\\t\\t\\n            \\n        \\n        \\n\\t\\t<div class=\"r-ent\">\\n\\t\\t\\t<div class=\"nrec\"><span class=\"hl f3\">28</span></div>\\n\\t\\t\\t<div class=\"title\">\\n\\t\\t\\t\\n\\t\\t\\t\\t<a href=\"/bbs/KoreaDrama/M.1713317256.A.60E.html\">[閒聊] 韓網熱議/金秀賢收視率跟角色財產成正比</a>\\n\\t\\t\\t\\n\\t\\t\\t</div>\\n\\t\\t\\t<div class=\"meta\">\\n\\t\\t\\t\\t<div class=\"author\">mininakai</div>\\n\\t\\t\\t\\t<div class=\"article-menu\">\\n\\t\\t\\t\\t\\t\\n\\t\\t\\t\\t\\t<div class=\"trigger\">&#x22ef;</div>\\n\\t\\t\\t\\t\\t<div class=\"dropdown\">\\n\\t\\t\\t\\t\\t\\t<div class=\"item\"><a href=\"/bbs/KoreaDrama/search?q=thread%3A%5B%E9%96%92%E8%81%8A%5D&#43;%E9%9F%93%E7%B6%B2%E7%86%B1%E8%AD%B0%2F%E9%87%91%E7%A7%80%E8%B3%A2%E6%94%B6%E8%A6%96%E7%8E%87%E8%B7%9F%E8%A7%92%E8%89%B2%E8%B2%A1%E7%94%A2%E6%88%90%E6%AD%A3%E6%AF%94\">搜尋同標題文章</a></div>\\n\\t\\t\\t\\t\\t\\t\\n\\t\\t\\t\\t\\t\\t<div class=\"item\"><a href=\"/bbs/KoreaDrama/search?q=author%3Amininakai\">搜尋看板內 mininakai 的文章</a></div>\\n\\t\\t\\t\\t\\t\\t\\n\\t\\t\\t\\t\\t</div>\\n\\t\\t\\t\\t\\t\\n\\t\\t\\t\\t</div>\\n\\t\\t\\t\\t<div class=\"date\"> 4/17</div>\\n\\t\\t\\t\\t<div class=\"mark\"></div>\\n\\t\\t\\t</div>\\n\\t\\t</div>\\n\\n\\t\\t\\n            \\n        \\n        \\n\\t\\t<div class=\"r-ent\">\\n\\t\\t\\t<div class=\"nrec\"><span class=\"hl f3\">12</span></div>\\n\\t\\t\\t<div class=\"title\">\\n\\t\\t\\t\\n\\t\\t\\t\\t<a href=\"/bbs/KoreaDrama/M.1713329905.A.E7E.html\">[情報] 曹政奭電影《Pilot》韓國7/31上映</a>\\n\\t\\t\\t\\n\\t\\t\\t</div>\\n\\t\\t\\t<div class=\"meta\">\\n\\t\\t\\t\\t<div class=\"author\">jinyi</div>\\n\\t\\t\\t\\t<div class=\"article-menu\">\\n\\t\\t\\t\\t\\t\\n\\t\\t\\t\\t\\t<div class=\"trigger\">&#x22ef;</div>\\n\\t\\t\\t\\t\\t<div class=\"dropdown\">\\n\\t\\t\\t\\t\\t\\t<div class=\"item\"><a href=\"/bbs/KoreaDrama/search?q=thread%3A%5B%E6%83%85%E5%A0%B1%5D&#43;%E6%9B%B9%E6%94%BF%E5%A5%AD%E9%9B%BB%E5%BD%B1%E3%80%8APilot%E3%80%8B%E9%9F%93%E5%9C%8B7%2F31%E4%B8%8A%E6%98%A0\">搜尋同標題文章</a></div>\\n\\t\\t\\t\\t\\t\\t\\n\\t\\t\\t\\t\\t\\t<div class=\"item\"><a href=\"/bbs/KoreaDrama/search?q=author%3Ajinyi\">搜尋看板內 jinyi 的文章</a></div>\\n\\t\\t\\t\\t\\t\\t\\n\\t\\t\\t\\t\\t</div>\\n\\t\\t\\t\\t\\t\\n\\t\\t\\t\\t</div>\\n\\t\\t\\t\\t<div class=\"date\"> 4/17</div>\\n\\t\\t\\t\\t<div class=\"mark\"></div>\\n\\t\\t\\t</div>\\n\\t\\t</div>\\n\\n\\t\\t\\n            \\n        \\n        \\n\\t\\t<div class=\"r-ent\">\\n\\t\\t\\t<div class=\"nrec\"><span class=\"hl f3\">77</span></div>\\n\\t\\t\\t<div class=\"title\">\\n\\t\\t\\t\\n\\t\\t\\t\\t<a href=\"/bbs/KoreaDrama/M.1713334265.A.822.html\">[LIVE] 支配物種 Ep.03-04</a>\\n\\t\\t\\t\\n\\t\\t\\t</div>\\n\\t\\t\\t<div class=\"meta\">\\n\\t\\t\\t\\t<div class=\"author\">Gardenia0603</div>\\n\\t\\t\\t\\t<div class=\"article-menu\">\\n\\t\\t\\t\\t\\t\\n\\t\\t\\t\\t\\t<div class=\"trigger\">&#x22ef;</div>\\n\\t\\t\\t\\t\\t<div class=\"dropdown\">\\n\\t\\t\\t\\t\\t\\t<div class=\"item\"><a href=\"/bbs/KoreaDrama/search?q=thread%3A%5BLIVE%5D&#43;%E6%94%AF%E9%85%8D%E7%89%A9%E7%A8%AE&#43;Ep.03-04\">搜尋同標題文章</a></div>\\n\\t\\t\\t\\t\\t\\t\\n\\t\\t\\t\\t\\t\\t<div class=\"item\"><a href=\"/bbs/KoreaDrama/search?q=author%3AGardenia0603\">搜尋看板內 Gardenia0603 的文章</a></div>\\n\\t\\t\\t\\t\\t\\t\\n\\t\\t\\t\\t\\t</div>\\n\\t\\t\\t\\t\\t\\n\\t\\t\\t\\t</div>\\n\\t\\t\\t\\t<div class=\"date\"> 4/17</div>\\n\\t\\t\\t\\t<div class=\"mark\"></div>\\n\\t\\t\\t</div>\\n\\t\\t</div>\\n\\n\\t\\t\\n            \\n        \\n        \\n\\t\\t<div class=\"r-ent\">\\n\\t\\t\\t<div class=\"nrec\"><span class=\"hl f2\">4</span></div>\\n\\t\\t\\t<div class=\"title\">\\n\\t\\t\\t\\n\\t\\t\\t\\t<a href=\"/bbs/KoreaDrama/M.1713342667.A.1B0.html\">[心得] 車貞淑醫生 意外不錯看</a>\\n\\t\\t\\t\\n\\t\\t\\t</div>\\n\\t\\t\\t<div class=\"meta\">\\n\\t\\t\\t\\t<div class=\"author\">b8827025</div>\\n\\t\\t\\t\\t<div class=\"article-menu\">\\n\\t\\t\\t\\t\\t\\n\\t\\t\\t\\t\\t<div class=\"trigger\">&#x22ef;</div>\\n\\t\\t\\t\\t\\t<div class=\"dropdown\">\\n\\t\\t\\t\\t\\t\\t<div class=\"item\"><a href=\"/bbs/KoreaDrama/search?q=thread%3A%5B%E5%BF%83%E5%BE%97%5D&#43;%E8%BB%8A%E8%B2%9E%E6%B7%91%E9%86%AB%E7%94%9F&#43;%E6%84%8F%E5%A4%96%E4%B8%8D%E9%8C%AF%E7%9C%8B\">搜尋同標題文章</a></div>\\n\\t\\t\\t\\t\\t\\t\\n\\t\\t\\t\\t\\t\\t<div class=\"item\"><a href=\"/bbs/KoreaDrama/search?q=author%3Ab8827025\">搜尋看板內 b8827025 的文章</a></div>\\n\\t\\t\\t\\t\\t\\t\\n\\t\\t\\t\\t\\t</div>\\n\\t\\t\\t\\t\\t\\n\\t\\t\\t\\t</div>\\n\\t\\t\\t\\t<div class=\"date\"> 4/17</div>\\n\\t\\t\\t\\t<div class=\"mark\"></div>\\n\\t\\t\\t</div>\\n\\t\\t</div>\\n\\n\\t\\t\\n            \\n        \\n        \\n\\t\\t<div class=\"r-ent\">\\n\\t\\t\\t<div class=\"nrec\"><span class=\"hl f2\">7</span></div>\\n\\t\\t\\t<div class=\"title\">\\n\\t\\t\\t\\n\\t\\t\\t\\t<a href=\"/bbs/KoreaDrama/M.1713347333.A.6FD.html\">[新聞] Coupang Play 公布今年陣容</a>\\n\\t\\t\\t\\n\\t\\t\\t</div>\\n\\t\\t\\t<div class=\"meta\">\\n\\t\\t\\t\\t<div class=\"author\">yihsuan1122</div>\\n\\t\\t\\t\\t<div class=\"article-menu\">\\n\\t\\t\\t\\t\\t\\n\\t\\t\\t\\t\\t<div class=\"trigger\">&#x22ef;</div>\\n\\t\\t\\t\\t\\t<div class=\"dropdown\">\\n\\t\\t\\t\\t\\t\\t<div class=\"item\"><a href=\"/bbs/KoreaDrama/search?q=thread%3A%5B%E6%96%B0%E8%81%9E%5D&#43;Coupang&#43;Play&#43;%E5%85%AC%E5%B8%83%E4%BB%8A%E5%B9%B4%E9%99%A3%E5%AE%B9\">搜尋同標題文章</a></div>\\n\\t\\t\\t\\t\\t\\t\\n\\t\\t\\t\\t\\t\\t<div class=\"item\"><a href=\"/bbs/KoreaDrama/search?q=author%3Ayihsuan1122\">搜尋看板內 yihsuan1122 的文章</a></div>\\n\\t\\t\\t\\t\\t\\t\\n\\t\\t\\t\\t\\t</div>\\n\\t\\t\\t\\t\\t\\n\\t\\t\\t\\t</div>\\n\\t\\t\\t\\t<div class=\"date\"> 4/17</div>\\n\\t\\t\\t\\t<div class=\"mark\"></div>\\n\\t\\t\\t</div>\\n\\t\\t</div>\\n\\n\\t\\t\\n            \\n        \\n        \\n\\t\\t<div class=\"r-ent\">\\n\\t\\t\\t<div class=\"nrec\"><span class=\"hl f3\">13</span></div>\\n\\t\\t\\t<div class=\"title\">\\n\\t\\t\\t\\n\\t\\t\\t\\t<a href=\"/bbs/KoreaDrama/M.1713363359.A.8A2.html\">[心得] 淚之女王默默鋪陳的洪家人(雷)</a>\\n\\t\\t\\t\\n\\t\\t\\t</div>\\n\\t\\t\\t<div class=\"meta\">\\n\\t\\t\\t\\t<div class=\"author\">l89</div>\\n\\t\\t\\t\\t<div class=\"article-menu\">\\n\\t\\t\\t\\t\\t\\n\\t\\t\\t\\t\\t<div class=\"trigger\">&#x22ef;</div>\\n\\t\\t\\t\\t\\t<div class=\"dropdown\">\\n\\t\\t\\t\\t\\t\\t<div class=\"item\"><a href=\"/bbs/KoreaDrama/search?q=thread%3A%5B%E5%BF%83%E5%BE%97%5D&#43;%E6%B7%9A%E4%B9%8B%E5%A5%B3%E7%8E%8B%E9%BB%98%E9%BB%98%E9%8B%AA%E9%99%B3%E7%9A%84%E6%B4%AA%E5%AE%B6%E4%BA%BA%28%E9%9B%B7%29\">搜尋同標題文章</a></div>\\n\\t\\t\\t\\t\\t\\t\\n\\t\\t\\t\\t\\t\\t<div class=\"item\"><a href=\"/bbs/KoreaDrama/search?q=author%3Al89\">搜尋看板內 l89 的文章</a></div>\\n\\t\\t\\t\\t\\t\\t\\n\\t\\t\\t\\t\\t</div>\\n\\t\\t\\t\\t\\t\\n\\t\\t\\t\\t</div>\\n\\t\\t\\t\\t<div class=\"date\"> 4/17</div>\\n\\t\\t\\t\\t<div class=\"mark\"></div>\\n\\t\\t\\t</div>\\n\\t\\t</div>\\n\\n\\t\\t\\n        \\n        <div class=\"r-list-sep\"></div>\\n            \\n                \\n        \\n        \\n\\t\\t<div class=\"r-ent\">\\n\\t\\t\\t<div class=\"nrec\"></div>\\n\\t\\t\\t<div class=\"title\">\\n\\t\\t\\t\\n\\t\\t\\t\\t<a href=\"/bbs/KoreaDrama/M.1475758152.A.32B.html\">[公告] 韓劇板板規 Ver.16 (21/03/31修訂) </a>\\n\\t\\t\\t\\n\\t\\t\\t</div>\\n\\t\\t\\t<div class=\"meta\">\\n\\t\\t\\t\\t<div class=\"author\">XDDDD555</div>\\n\\t\\t\\t\\t<div class=\"article-menu\">\\n\\t\\t\\t\\t\\t\\n\\t\\t\\t\\t\\t<div class=\"trigger\">&#x22ef;</div>\\n\\t\\t\\t\\t\\t<div class=\"dropdown\">\\n\\t\\t\\t\\t\\t\\t<div class=\"item\"><a href=\"/bbs/KoreaDrama/search?q=thread%3A%5B%E5%85%AC%E5%91%8A%5D&#43;%E9%9F%93%E5%8A%87%E6%9D%BF%E6%9D%BF%E8%A6%8F&#43;Ver.16&#43;%2821%2F03%2F31%E4%BF%AE%E8%A8%82%29&#43;\">搜尋同標題文章</a></div>\\n\\t\\t\\t\\t\\t\\t\\n\\t\\t\\t\\t\\t\\t<div class=\"item\"><a href=\"/bbs/KoreaDrama/search?q=author%3AXDDDD555\">搜尋看板內 XDDDD555 的文章</a></div>\\n\\t\\t\\t\\t\\t\\t\\n\\t\\t\\t\\t\\t</div>\\n\\t\\t\\t\\t\\t\\n\\t\\t\\t\\t</div>\\n\\t\\t\\t\\t<div class=\"date\">10/06</div>\\n\\t\\t\\t\\t<div class=\"mark\">!</div>\\n\\t\\t\\t</div>\\n\\t\\t</div>\\n\\n            \\n                \\n        \\n        \\n\\t\\t<div class=\"r-ent\">\\n\\t\\t\\t<div class=\"nrec\"><span class=\"hl f1\">爆</span></div>\\n\\t\\t\\t<div class=\"title\">\\n\\t\\t\\t\\n\\t\\t\\t\\t<a href=\"/bbs/KoreaDrama/M.1575166419.A.4A4.html\">[情報] 播出中韓劇與跟播平台 ＆ LIVE 文認領區</a>\\n\\t\\t\\t\\n\\t\\t\\t</div>\\n\\t\\t\\t<div class=\"meta\">\\n\\t\\t\\t\\t<div class=\"author\">watase124</div>\\n\\t\\t\\t\\t<div class=\"article-menu\">\\n\\t\\t\\t\\t\\t\\n\\t\\t\\t\\t\\t<div class=\"trigger\">&#x22ef;</div>\\n\\t\\t\\t\\t\\t<div class=\"dropdown\">\\n\\t\\t\\t\\t\\t\\t<div class=\"item\"><a href=\"/bbs/KoreaDrama/search?q=thread%3A%5B%E6%83%85%E5%A0%B1%5D&#43;%E6%92%AD%E5%87%BA%E4%B8%AD%E9%9F%93%E5%8A%87%E8%88%87%E8%B7%9F%E6%92%AD%E5%B9%B3%E5%8F%B0&#43;%EF%BC%86&#43;LIVE&#43;%E6%96%87%E8%AA%8D%E9%A0%98%E5%8D%80\">搜尋同標題文章</a></div>\\n\\t\\t\\t\\t\\t\\t\\n\\t\\t\\t\\t\\t\\t<div class=\"item\"><a href=\"/bbs/KoreaDrama/search?q=author%3Awatase124\">搜尋看板內 watase124 的文章</a></div>\\n\\t\\t\\t\\t\\t\\t\\n\\t\\t\\t\\t\\t</div>\\n\\t\\t\\t\\t\\t\\n\\t\\t\\t\\t</div>\\n\\t\\t\\t\\t<div class=\"date\">12/01</div>\\n\\t\\t\\t\\t<div class=\"mark\"></div>\\n\\t\\t\\t</div>\\n\\t\\t</div>\\n\\n            \\n                \\n        \\n        \\n\\t\\t<div class=\"r-ent\">\\n\\t\\t\\t<div class=\"nrec\"><span class=\"hl f1\">爆</span></div>\\n\\t\\t\\t<div class=\"title\">\\n\\t\\t\\t\\n\\t\\t\\t\\t<a href=\"/bbs/KoreaDrama/M.1441025983.A.233.html\">[置底] 韓劇「求、推薦區」</a>\\n\\t\\t\\t\\n\\t\\t\\t</div>\\n\\t\\t\\t<div class=\"meta\">\\n\\t\\t\\t\\t<div class=\"author\">XDDDD555</div>\\n\\t\\t\\t\\t<div class=\"article-menu\">\\n\\t\\t\\t\\t\\t\\n\\t\\t\\t\\t\\t<div class=\"trigger\">&#x22ef;</div>\\n\\t\\t\\t\\t\\t<div class=\"dropdown\">\\n\\t\\t\\t\\t\\t\\t<div class=\"item\"><a href=\"/bbs/KoreaDrama/search?q=thread%3A%5B%E7%BD%AE%E5%BA%95%5D&#43;%E9%9F%93%E5%8A%87%E3%80%8C%E6%B1%82%E3%80%81%E6%8E%A8%E8%96%A6%E5%8D%80%E3%80%8D\">搜尋同標題文章</a></div>\\n\\t\\t\\t\\t\\t\\t\\n\\t\\t\\t\\t\\t\\t<div class=\"item\"><a href=\"/bbs/KoreaDrama/search?q=author%3AXDDDD555\">搜尋看板內 XDDDD555 的文章</a></div>\\n\\t\\t\\t\\t\\t\\t\\n\\t\\t\\t\\t\\t</div>\\n\\t\\t\\t\\t\\t\\n\\t\\t\\t\\t</div>\\n\\t\\t\\t\\t<div class=\"date\"> 8/31</div>\\n\\t\\t\\t\\t<div class=\"mark\">M</div>\\n\\t\\t\\t</div>\\n\\t\\t</div>\\n\\n            \\n                \\n        \\n        \\n\\t\\t<div class=\"r-ent\">\\n\\t\\t\\t<div class=\"nrec\"><span class=\"hl f1\">爆</span></div>\\n\\t\\t\\t<div class=\"title\">\\n\\t\\t\\t\\n\\t\\t\\t\\t<a href=\"/bbs/KoreaDrama/M.1711987739.A.7DB.html\">[置底] 4月難以發文討論之「閒聊區」</a>\\n\\t\\t\\t\\n\\t\\t\\t</div>\\n\\t\\t\\t<div class=\"meta\">\\n\\t\\t\\t\\t<div class=\"author\">will83tw1</div>\\n\\t\\t\\t\\t<div class=\"article-menu\">\\n\\t\\t\\t\\t\\t\\n\\t\\t\\t\\t\\t<div class=\"trigger\">&#x22ef;</div>\\n\\t\\t\\t\\t\\t<div class=\"dropdown\">\\n\\t\\t\\t\\t\\t\\t<div class=\"item\"><a href=\"/bbs/KoreaDrama/search?q=thread%3A%5B%E7%BD%AE%E5%BA%95%5D&#43;4%E6%9C%88%E9%9B%A3%E4%BB%A5%E7%99%BC%E6%96%87%E8%A8%8E%E8%AB%96%E4%B9%8B%E3%80%8C%E9%96%92%E8%81%8A%E5%8D%80%E3%80%8D\">搜尋同標題文章</a></div>\\n\\t\\t\\t\\t\\t\\t\\n\\t\\t\\t\\t\\t\\t<div class=\"item\"><a href=\"/bbs/KoreaDrama/search?q=author%3Awill83tw1\">搜尋看板內 will83tw1 的文章</a></div>\\n\\t\\t\\t\\t\\t\\t\\n\\t\\t\\t\\t\\t</div>\\n\\t\\t\\t\\t\\t\\n\\t\\t\\t\\t</div>\\n\\t\\t\\t\\t<div class=\"date\"> 4/02</div>\\n\\t\\t\\t\\t<div class=\"mark\"></div>\\n\\t\\t\\t</div>\\n\\t\\t</div>\\n\\n            \\n        \\n\\t</div>\\n\\n    \\n</div>\\n\\n\\t\\t\\n\\n\\n\\n<script async src=\"https://www.googletagmanager.com/gtag/js?id=G-DZ6Y3BY9GW\"></script>\\n<script>\\n      window.dataLayer = window.dataLayer || [];\\n      function gtag(){dataLayer.push(arguments);}\\n      gtag(\\'js\\', new Date());\\n\\n      gtag(\\'config\\', \\'G-DZ6Y3BY9GW\\');\\n</script>\\n<script>\\n  (function(i,s,o,g,r,a,m){i[\\'GoogleAnalyticsObject\\']=r;i[r]=i[r]||function(){\\n  (i[r].q=i[r].q||[]).push(arguments)},i[r].l=1*new Date();a=s.createElement(o),\\n  m=s.getElementsByTagName(o)[0];a.async=1;a.src=g;m.parentNode.insertBefore(a,m)\\n  })(window,document,\\'script\\',\\'https://www.google-analytics.com/analytics.js\\',\\'ga\\');\\n\\n  ga(\\'create\\', \\'UA-32365737-1\\', {\\n    cookieDomain: \\'ptt.cc\\',\\n    legacyCookieDomain: \\'ptt.cc\\'\\n  });\\n  ga(\\'send\\', \\'pageview\\');\\n</script>\\n\\n\\n\\t\\t\\n<script src=\"//ajax.googleapis.com/ajax/libs/jquery/2.1.1/jquery.min.js\"></script>\\n<script src=\"//images.ptt.cc/bbs/v2.27/bbs.js\"></script>\\n\\n    </body>\\n</html>\\n'"
      ]
     },
     "execution_count": 3,
     "metadata": {},
     "output_type": "execute_result"
    }
   ],
   "source": [
    "response.text"
   ]
  },
  {
   "cell_type": "code",
   "execution_count": 4,
   "metadata": {},
   "outputs": [],
   "source": [
    "# 使用 BeautifulSoup 解析 HTML\n",
    "soup = BeautifulSoup(html_content, 'html.parser')\n"
   ]
  },
  {
   "cell_type": "code",
   "execution_count": 5,
   "metadata": {},
   "outputs": [
    {
     "name": "stdout",
     "output_type": "stream",
     "text": [
      "Title: [LIVE] ENA 夜限照相館 EP11\n",
      "Title: [情報] 鄭麗媛、魏嘏雋主演《畢業》預告\n",
      "Title: [心得] 美好世界（雷）\n",
      "Title: [閒聊] 淚之女王 劇情猜測 關於病情\n",
      "Title: Re: [閒聊] 淚之女王 劇情猜測 關於病情\n",
      "Title: (本文已被刪除) [mooneyess]\n",
      "Title: [閒聊] 韓網熱議/金秀賢收視率跟角色財產成正比\n",
      "Title: [情報] 曹政奭電影《Pilot》韓國7/31上映\n",
      "Title: [LIVE] 支配物種 Ep.03-04\n",
      "Title: [心得] 車貞淑醫生 意外不錯看\n",
      "Title: [新聞] Coupang Play 公布今年陣容\n",
      "Title: [心得] 淚之女王默默鋪陳的洪家人(雷)\n",
      "Title: [公告] 韓劇板板規 Ver.16 (21/03/31修訂)\n",
      "Title: [情報] 播出中韓劇與跟播平台 ＆ LIVE 文認領區\n",
      "Title: [置底] 韓劇「求、推薦區」\n",
      "Title: [置底] 4月難以發文討論之「閒聊區」\n"
     ]
    }
   ],
   "source": [
    "# 找到標題的標籤\n",
    "title_tags = soup.find_all('div', class_='title')\n",
    "\n",
    "# 提取標題文本\n",
    "titles = []\n",
    "for tag in title_tags:\n",
    "    title = tag.text.strip()\n",
    "    titles.append(title)\n",
    "\n",
    "# 印出提取的標題\n",
    "for title in titles:\n",
    "    print(\"Title:\", title)\n"
   ]
  },
  {
   "cell_type": "code",
   "execution_count": 6,
   "metadata": {},
   "outputs": [
    {
     "name": "stdout",
     "output_type": "stream",
     "text": [
      "Author: kawasau\n",
      "Author: XOD\n",
      "Author: fishgift\n",
      "Author: mooneyess\n",
      "Author: erric\n",
      "Author: -\n",
      "Author: mininakai\n",
      "Author: jinyi\n",
      "Author: Gardenia0603\n",
      "Author: b8827025\n",
      "Author: yihsuan1122\n",
      "Author: l89\n",
      "Author: XDDDD555\n",
      "Author: watase124\n",
      "Author: XDDDD555\n",
      "Author: will83tw1\n"
     ]
    }
   ],
   "source": [
    "# 找到作者的標籤\n",
    "author_tags = soup.find_all('div', class_='author')\n",
    "\n",
    "# 提取作者文本\n",
    "authors = []\n",
    "for tag in author_tags:\n",
    "    author = tag.text.strip()\n",
    "    authors.append(author)\n",
    "\n",
    "# 印出提取的作者\n",
    "for author in authors:\n",
    "    print(\"Author:\", author)"
   ]
  },
  {
   "cell_type": "code",
   "execution_count": 7,
   "metadata": {},
   "outputs": [
    {
     "name": "stdout",
     "output_type": "stream",
     "text": [
      "Date: 4/16\n",
      "Date: 4/16\n",
      "Date: 4/16\n",
      "Date: 4/17\n",
      "Date: 4/17\n",
      "Date: 4/17\n",
      "Date: 4/17\n",
      "Date: 4/17\n",
      "Date: 4/17\n",
      "Date: 4/17\n",
      "Date: 4/17\n",
      "Date: 4/17\n",
      "Date: 10/06\n",
      "Date: 12/01\n",
      "Date: 8/31\n",
      "Date: 4/02\n"
     ]
    }
   ],
   "source": [
    "# 找到日期的標籤\n",
    "date_tags = soup.find_all('div', class_='date')\n",
    "\n",
    "# 提取日期文本\n",
    "dates = []\n",
    "for tag in date_tags:\n",
    "    date = tag.text.strip()\n",
    "    dates.append(date)\n",
    "\n",
    "# 印出提取的日期\n",
    "for date in dates:\n",
    "    print(\"Date:\", date)\n"
   ]
  },
  {
   "cell_type": "code",
   "execution_count": 8,
   "metadata": {},
   "outputs": [],
   "source": [
    "# 將提取的資料組合成 DataFrame\n",
    "data = {'Title': titles, 'Author': authors, 'Date': dates}\n",
    "df = pd.DataFrame(data)\n"
   ]
  },
  {
   "cell_type": "code",
   "execution_count": 9,
   "metadata": {},
   "outputs": [
    {
     "name": "stdout",
     "output_type": "stream",
     "text": [
      "                             Title        Author   Date\n",
      "0            [LIVE] ENA 夜限照相館 EP11       kawasau   4/16\n",
      "1             [情報] 鄭麗媛、魏嘏雋主演《畢業》預告           XOD   4/16\n",
      "2                     [心得] 美好世界（雷）      fishgift   4/16\n",
      "3              [閒聊] 淚之女王 劇情猜測 關於病情     mooneyess   4/17\n",
      "4          Re: [閒聊] 淚之女王 劇情猜測 關於病情         erric   4/17\n",
      "5             (本文已被刪除) [mooneyess]             -   4/17\n",
      "6         [閒聊] 韓網熱議/金秀賢收視率跟角色財產成正比     mininakai   4/17\n",
      "7        [情報] 曹政奭電影《Pilot》韓國7/31上映         jinyi   4/17\n",
      "8             [LIVE] 支配物種 Ep.03-04  Gardenia0603   4/17\n",
      "9                 [心得] 車貞淑醫生 意外不錯看      b8827025   4/17\n",
      "10        [新聞] Coupang Play 公布今年陣容   yihsuan1122   4/17\n",
      "11            [心得] 淚之女王默默鋪陳的洪家人(雷)           l89   4/17\n",
      "12  [公告] 韓劇板板規 Ver.16 (21/03/31修訂)      XDDDD555  10/06\n",
      "13     [情報] 播出中韓劇與跟播平台 ＆ LIVE 文認領區     watase124  12/01\n",
      "14                  [置底] 韓劇「求、推薦區」      XDDDD555   8/31\n",
      "15             [置底] 4月難以發文討論之「閒聊區」     will83tw1   4/02\n"
     ]
    }
   ],
   "source": [
    "# 輸出成 CSV 檔\n",
    "df.to_csv('KoreaDrama_posts.csv', index=False)\n",
    "\n",
    "print(df)\n",
    "\n"
   ]
  },
  {
   "cell_type": "code",
   "execution_count": 10,
   "metadata": {},
   "outputs": [],
   "source": [
    "# 輸出成 JSON 檔\n",
    "with open('KoreaDrama_posts.json', 'w') as json_file:\n",
    "    json.dump(data, json_file, ensure_ascii=False, indent=4)"
   ]
  }
 ],
 "metadata": {
  "kernelspec": {
   "display_name": "Python 3",
   "language": "python",
   "name": "python3"
  },
  "language_info": {
   "codemirror_mode": {
    "name": "ipython",
    "version": 3
   },
   "file_extension": ".py",
   "mimetype": "text/x-python",
   "name": "python",
   "nbconvert_exporter": "python",
   "pygments_lexer": "ipython3",
   "version": "3.12.0"
  }
 },
 "nbformat": 4,
 "nbformat_minor": 2
}
